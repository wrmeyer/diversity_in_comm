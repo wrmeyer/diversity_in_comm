{
 "cells": [
  {
   "cell_type": "code",
   "execution_count": 3,
   "metadata": {},
   "outputs": [],
   "source": [
    "import os\n",
    "import json\n",
    "import csv\n",
    "location = str(os.getcwd())"
   ]
  },
  {
   "cell_type": "code",
   "execution_count": 4,
   "metadata": {},
   "outputs": [],
   "source": [
    "with open(location + \"/\" + \"minority_potential_auto.csv\", encoding = \"Utf-8\") as infile:\n",
    "        reader = csv.DictReader(infile)\n",
    "        in_group = list(reader)\n",
    "        for item in in_group:\n",
    "            if item[\"pctblack\"] == '(S)':\n",
    "                item[\"pctblack\"] = 0\n",
    "            if item[\"pctapi\"] == '(S)':\n",
    "                item[\"pctapi\"] = 0\n",
    "            if item[\"pctaian\"] == '(S)':\n",
    "                item[\"pctaian\"] = 0\n",
    "            if item[\"pct2prace\"] == '(S)':\n",
    "                item[\"pct2prace\"] = 0\n",
    "            if item[\"pcthispanic\"] == '(S)':\n",
    "                item[\"pcthispanic\"] = 0\n",
    "            if item[\"pctwhite\"] == '(S)':\n",
    "                item[\"pctwhite\"] = 0\n",
    "        \n",
    "        for item in in_group:\n",
    "            if float(item[\"pctblack\"]) >= 80:\n",
    "                item[\"to_code\"] = 0\n",
    "                item[\"race_code\"] = \"Black\"\n",
    "            elif float(item[\"pctapi\"]) >= 80:\n",
    "                item[\"to_code\"] = 0\n",
    "                item[\"race_code\"] = \"API\"\n",
    "            elif float(item[\"pctaian\"]) >= 80:\n",
    "                item[\"to_code\"] = 0\n",
    "                item[\"race_code\"] = \"AIAN\"\n",
    "            elif float(item[\"pct2prace\"]) >= 80:\n",
    "                item[\"to_code\"] = 0\n",
    "                item[\"race_code\"] = \"Biracial\"\n",
    "            elif float(item[\"pcthispanic\"]) >= 80:\n",
    "                item[\"to_code\"] = 0\n",
    "                item[\"race_code\"] = \"Hispanic\"\n",
    "            elif float(item[\"pctwhite\"]) >= 80:\n",
    "                item[\"to_code\"] = 0\n",
    "                item[\"race_code\"] = \"White\"\n",
    "            else:\n",
    "                item[\"to_code\"] = 1"
   ]
  },
  {
   "cell_type": "code",
   "execution_count": 5,
   "metadata": {},
   "outputs": [],
   "source": [
    "res = []\n",
    "for i in in_group:\n",
    "    if i not in res:\n",
    "        res.append(i)            "
   ]
  },
  {
   "cell_type": "code",
   "execution_count": 6,
   "metadata": {},
   "outputs": [],
   "source": [
    "rows = []\n",
    "fields = res[0].keys()\n",
    "\n",
    "for author in res:\n",
    "    row = []\n",
    "    for item in fields:\n",
    "        row.append(author[item])\n",
    "    rows.append(row)"
   ]
  },
  {
   "cell_type": "code",
   "execution_count": 7,
   "metadata": {},
   "outputs": [],
   "source": [
    "filename = \"database.csv\"\n",
    "with open(filename, 'w', newline='', encoding = \"Utf-8\") as csvfile: \n",
    "    csvwriter = csv.writer(csvfile) \n",
    "    csvwriter.writerow(fields) \n",
    "    csvwriter.writerows(rows)"
   ]
  },
  {
   "cell_type": "code",
   "execution_count": null,
   "metadata": {},
   "outputs": [],
   "source": []
  }
 ],
 "metadata": {
  "kernelspec": {
   "display_name": "Python 3",
   "language": "python",
   "name": "python3"
  },
  "language_info": {
   "codemirror_mode": {
    "name": "ipython",
    "version": 3
   },
   "file_extension": ".py",
   "mimetype": "text/x-python",
   "name": "python",
   "nbconvert_exporter": "python",
   "pygments_lexer": "ipython3",
   "version": "3.8.10"
  }
 },
 "nbformat": 4,
 "nbformat_minor": 4
}
