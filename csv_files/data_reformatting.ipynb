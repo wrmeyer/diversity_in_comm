{
 "cells": [
  {
   "cell_type": "code",
   "execution_count": 5,
   "metadata": {},
   "outputs": [],
   "source": [
    "import os\n",
    "import json\n",
    "import csv\n",
    "location = str(os.getcwd())"
   ]
  },
  {
   "cell_type": "code",
   "execution_count": 8,
   "metadata": {},
   "outputs": [],
   "source": [
    "with open(location + \"/\" + \"minority_potential_auto.csv\") as infile:\n",
    "        reader = csv.DictReader(infile)\n",
    "        in_group = list(reader)\n",
    "        for item in in_group:\n",
    "            if item[\"pctblack\"] == '(S)':\n",
    "                item[\"pctblack\"] = 0\n",
    "            if item[\"pctapi\"] == '(S)':\n",
    "                item[\"pctapi\"] = 0\n",
    "            if item[\"pctaian\"] == '(S)':\n",
    "                item[\"pctaian\"] = 0\n",
    "            if item[\"pct2prace\"] == '(S)':\n",
    "                item[\"pct2prace\"] = 0\n",
    "            if item[\"pcthispanic\"] == '(S)':\n",
    "                item[\"pcthispanic\"] = 0\n",
    "        \n",
    "        for item in in_group:\n",
    "            if float(item[\"pctblack\"]) >= 80:\n",
    "                item[\"to_code\"] = 0\n",
    "            elif float(item[\"pctapi\"]) >= 80:\n",
    "                item[\"to_code\"] = 0\n",
    "            elif float(item[\"pctaian\"]) >= 80:\n",
    "                item[\"to_code\"] = 0\n",
    "            elif float(item[\"pct2prace\"]) >= 80:\n",
    "                item[\"to_code\"] = 0\n",
    "            elif float(item[\"pcthispanic\"]) >= 80:\n",
    "                item[\"to_code\"] = 0\n",
    "            else:\n",
    "                item[\"to_code\"] = 1"
   ]
  },
  {
   "cell_type": "code",
   "execution_count": 26,
   "metadata": {},
   "outputs": [
    {
     "name": "stdout",
     "output_type": "stream",
     "text": [
      "OrderedDict([('Family_fa', 'Tettey'), ('Given_fa', ' Wisdom John '), ('Paper_DOI', '10.1111/cccr.12132'), ('Paper_abstract', 'The study analyzes media reports about homosexuality in Ghanaian media and the reactions that they engender among the public. It argues that politicized homophobia combined with moral entrepreneurship to produce influential circuits of social, moral, and political power that were deployed to elicit particular forms of subjectivity against homosexuality. The media stimulated and sustained homophobia and heterosexism, and provided a platform for politicians and other moral entrepreneurs to mobilize antipathy in support of reactionary and exclusionary interventions that are antithetical to the very essence of liberal democracy that the country professes. While the media cannot singlehandedly effect value and attitudinal change in support of inclusive citizenship, they have a frontline role in generating critical introspection and dialogic engagement with homosexuality.'), ('Paper_addresses', '| Univ British Columbia, Irving K Barber Sch Arts & Sci, Kelowna, BC V1V 1V7, Canada (1)'), ('Paper_articleTitle', 'Homosexuality, Moral Panic, and Politicized Homophobia in Ghana: Interrogating Discourses of Moral Entrepreneurship in Ghanaian Media'), ('Paper_authorFullNames', 'Tettey, Wisdom John (1)'), ('Paper_keywordsPlus', 'Ghana,Media,Moral Panic,Homosexuality,Homophobia,Moral Entrepreneurship'), ('Paper_publicationDate', '16-Mar'), ('Paper_publicationYear', '2016'), ('Paper_sourceTitle', 'COMMUNICATION CULTURE & CRITIQUE'), ('Paper_wosId', 'WOS:000375481000006'), ('complete_or_not', 'TRUE'), ('index', '56'), ('status', ''), ('pctwhite', '(S)'), ('pctblack', '95'), ('pctapi', '0'), ('pctaian', '0'), ('pct2prace', '0'), ('pcthispanic', 0), ('fa_insti', 'Univ British Columbia, Irving K Barber Sch Arts & Sci, Kelowna, BC V1V 1V7, Canada'), ('to_code', 0)])\n"
     ]
    }
   ],
   "source": [
    "print(in_group[0])"
   ]
  },
  {
   "cell_type": "code",
   "execution_count": 27,
   "metadata": {},
   "outputs": [],
   "source": [
    "rows = []\n",
    "fields = in_group[0].keys()\n",
    "\n",
    "for author in in_group:\n",
    "    row = []\n",
    "    for item in fields:\n",
    "        row.append(author[item])\n",
    "    rows.append(row)"
   ]
  },
  {
   "cell_type": "code",
   "execution_count": 28,
   "metadata": {},
   "outputs": [],
   "source": [
    "filename = \"database.csv\"\n",
    "with open(filename, 'w', newline='') as csvfile: \n",
    "    csvwriter = csv.writer(csvfile) \n",
    "    csvwriter.writerow(fields) \n",
    "    csvwriter.writerows(rows)"
   ]
  },
  {
   "cell_type": "code",
   "execution_count": null,
   "metadata": {},
   "outputs": [],
   "source": []
  }
 ],
 "metadata": {
  "kernelspec": {
   "display_name": "Python 3",
   "language": "python",
   "name": "python3"
  },
  "language_info": {
   "codemirror_mode": {
    "name": "ipython",
    "version": 3
   },
   "file_extension": ".py",
   "mimetype": "text/x-python",
   "name": "python",
   "nbconvert_exporter": "python",
   "pygments_lexer": "ipython3",
   "version": "3.7.6"
  }
 },
 "nbformat": 4,
 "nbformat_minor": 4
}
