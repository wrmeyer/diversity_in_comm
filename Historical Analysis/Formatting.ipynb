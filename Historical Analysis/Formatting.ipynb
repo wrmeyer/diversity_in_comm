{
 "cells": [
  {
   "cell_type": "code",
   "execution_count": 3,
   "metadata": {},
   "outputs": [],
   "source": [
    "import csv\n",
    "df = []\n",
    "with open('complete.csv', 'r') as data:\n",
    "    for line in csv.DictReader(data):\n",
    "        df.append(line)"
   ]
  },
  {
   "cell_type": "code",
   "execution_count": 4,
   "metadata": {},
   "outputs": [
    {
     "name": "stdout",
     "output_type": "stream",
     "text": [
      "OrderedDict([('Family_fa', 'Tettey'), ('Given_fa', ' Wisdom John '), ('Paper_DOI', '10.1111/cccr.12132'), ('Paper_abstract', 'The study analyzes media reports about homosexuality in Ghanaian media and the reactions that they engender among the public. It argues that politicized homophobia combined with moral entrepreneurship to produce influential circuits of social, moral, and political power that were deployed to elicit particular forms of subjectivity against homosexuality. The media stimulated and sustained homophobia and heterosexism, and provided a platform for politicians and other moral entrepreneurs to mobilize antipathy in support of reactionary and exclusionary interventions that are antithetical to the very essence of liberal democracy that the country professes. While the media cannot singlehandedly effect value and attitudinal change in support of inclusive citizenship, they have a frontline role in generating critical introspection and dialogic engagement with homosexuality.'), ('Paper_addresses', '| Univ British Columbia, Irving K Barber Sch Arts & Sci, Kelowna, BC V1V 1V7, Canada (1)'), ('Paper_articleTitle', 'Homosexuality, Moral Panic, and Politicized Homophobia in Ghana: Interrogating Discourses of Moral Entrepreneurship in Ghanaian Media'), ('Paper_authorFullNames', 'Tettey, Wisdom John (1)'), ('Paper_keywordsPlus', 'Ghana,Media,Moral Panic,Homosexuality,Homophobia,Moral Entrepreneurship'), ('Paper_publicationDate', '16-Mar'), ('Paper_publicationYear', '2016'), ('Paper_sourceTitle', 'COMMUNICATION CULTURE & CRITIQUE'), ('Paper_wosId', 'WOS:000375481000006'), ('complete_or_not', 'TRUE'), ('index', '56'), ('status', ''), ('pctwhite', '(S)'), ('pctblack', '95'), ('pctapi', '0'), ('pctaian', '0'), ('pct2prace', '0'), ('pcthispanic', '0'), ('fa_insti', 'Univ British Columbia, Irving K Barber Sch Arts & Sci, Kelowna, BC V1V 1V7, Canada'), ('race_code', 'Non-White'), ('gender_code', ''), ('to_code', '0')])\n"
     ]
    }
   ],
   "source": [
    "print(df[0])"
   ]
  },
  {
   "cell_type": "code",
   "execution_count": 7,
   "metadata": {},
   "outputs": [],
   "source": [
    "for entry in df:\n",
    "    white = entry['pctwhite']\n",
    "    black = entry['pctblack']\n",
    "    api = entry['pctapi']\n",
    "    asian = entry['pctaian']\n",
    "    biracial = entry['pct2prace']\n",
    "    hispanic = entry['pcthispanic']\n",
    "    comp_list = [white, black, api, asian, biracial, hispanic]\n",
    "    for item in comp_list:\n",
    "        if item == \"(S)\":\n",
    "            item = '0'\n",
    "        item = float(item)\n",
    "        \n",
    "    if white == max(comp_list):\n",
    "        race = \"White\"\n",
    "    elif black == max(comp_list):\n",
    "        race = \"Black\"\n",
    "    elif api == max(comp_list):\n",
    "        race = \"api\"\n",
    "    elif asian == max(comp_list):\n",
    "        race = \"Asian\"\n",
    "    elif biracial == max(comp_list):\n",
    "        race = \"Biracial\"\n",
    "    elif hispanic == max(comp_list):\n",
    "        race = \"Hispanic\"\n",
    "    \n",
    "    entry[\"Race\"] = race"
   ]
  },
  {
   "cell_type": "code",
   "execution_count": 8,
   "metadata": {},
   "outputs": [
    {
     "name": "stdout",
     "output_type": "stream",
     "text": [
      "OrderedDict([('Family_fa', 'Tettey'), ('Given_fa', ' Wisdom John '), ('Paper_DOI', '10.1111/cccr.12132'), ('Paper_abstract', 'The study analyzes media reports about homosexuality in Ghanaian media and the reactions that they engender among the public. It argues that politicized homophobia combined with moral entrepreneurship to produce influential circuits of social, moral, and political power that were deployed to elicit particular forms of subjectivity against homosexuality. The media stimulated and sustained homophobia and heterosexism, and provided a platform for politicians and other moral entrepreneurs to mobilize antipathy in support of reactionary and exclusionary interventions that are antithetical to the very essence of liberal democracy that the country professes. While the media cannot singlehandedly effect value and attitudinal change in support of inclusive citizenship, they have a frontline role in generating critical introspection and dialogic engagement with homosexuality.'), ('Paper_addresses', '| Univ British Columbia, Irving K Barber Sch Arts & Sci, Kelowna, BC V1V 1V7, Canada (1)'), ('Paper_articleTitle', 'Homosexuality, Moral Panic, and Politicized Homophobia in Ghana: Interrogating Discourses of Moral Entrepreneurship in Ghanaian Media'), ('Paper_authorFullNames', 'Tettey, Wisdom John (1)'), ('Paper_keywordsPlus', 'Ghana,Media,Moral Panic,Homosexuality,Homophobia,Moral Entrepreneurship'), ('Paper_publicationDate', '16-Mar'), ('Paper_publicationYear', '2016'), ('Paper_sourceTitle', 'COMMUNICATION CULTURE & CRITIQUE'), ('Paper_wosId', 'WOS:000375481000006'), ('complete_or_not', 'TRUE'), ('index', '56'), ('status', ''), ('pctwhite', '(S)'), ('pctblack', '95'), ('pctapi', '0'), ('pctaian', '0'), ('pct2prace', '0'), ('pcthispanic', '0'), ('fa_insti', 'Univ British Columbia, Irving K Barber Sch Arts & Sci, Kelowna, BC V1V 1V7, Canada'), ('race_code', 'Non-White'), ('gender_code', ''), ('to_code', '0'), ('Race', 'Black')])\n"
     ]
    }
   ],
   "source": [
    "print(df[0])"
   ]
  },
  {
   "cell_type": "code",
   "execution_count": 10,
   "metadata": {},
   "outputs": [],
   "source": [
    "fields = df[0].keys()\n",
    "output_rows = []\n",
    "for author in df:\n",
    "    row = []\n",
    "    for item in fields:\n",
    "        row.append(author[item])\n",
    "    output_rows.append(row)\n",
    "\n",
    "with open(\"Formatted_data.csv\", 'w', newline='', encoding = \"Utf-8\") as csvfile: \n",
    "    csvwriter = csv.writer(csvfile) \n",
    "    csvwriter.writerow(fields) \n",
    "    csvwriter.writerows(output_rows)"
   ]
  },
  {
   "cell_type": "code",
   "execution_count": null,
   "metadata": {},
   "outputs": [],
   "source": []
  }
 ],
 "metadata": {
  "kernelspec": {
   "display_name": "Python 3",
   "language": "python",
   "name": "python3"
  },
  "language_info": {
   "codemirror_mode": {
    "name": "ipython",
    "version": 3
   },
   "file_extension": ".py",
   "mimetype": "text/x-python",
   "name": "python",
   "nbconvert_exporter": "python",
   "pygments_lexer": "ipython3",
   "version": "3.7.6"
  }
 },
 "nbformat": 4,
 "nbformat_minor": 4
}
