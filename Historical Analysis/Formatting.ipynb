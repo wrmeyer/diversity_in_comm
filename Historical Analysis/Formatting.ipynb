{
 "cells": [
  {
   "cell_type": "code",
   "execution_count": 1,
   "metadata": {},
   "outputs": [],
   "source": [
    "import csv\n",
    "df = []\n",
    "with open('complete.csv', 'r') as data:\n",
    "    for line in csv.DictReader(data):\n",
    "        df.append(line)"
   ]
  },
  {
   "cell_type": "code",
   "execution_count": 2,
   "metadata": {},
   "outputs": [],
   "source": [
    "for entry in df:\n",
    "    white = entry['pctwhite']\n",
    "    black = entry['pctblack']\n",
    "    api = entry['pctapi']\n",
    "    asian = entry['pctaian']\n",
    "    biracial = entry['pct2prace']\n",
    "    hispanic = entry['pcthispanic']\n",
    "    comp_list = [white, black, api, asian, biracial, hispanic]\n",
    "    for item in comp_list:\n",
    "        if item == \"(S)\":\n",
    "            item = '0'\n",
    "        item = float(item)\n",
    "        \n",
    "    if white == max(comp_list):\n",
    "        race = \"White\"\n",
    "    elif black == max(comp_list):\n",
    "        race = \"Black\"\n",
    "    elif api == max(comp_list):\n",
    "        race = \"Asian/PI\"\n",
    "    elif asian == max(comp_list):\n",
    "        race = \"NatAm\"\n",
    "    elif biracial == max(comp_list):\n",
    "        race = \"Biracial\"\n",
    "    elif hispanic == max(comp_list):\n",
    "        race = \"Hispanic\"\n",
    "        \n",
    "    \n",
    "    \n",
    "    entry[\"Race\"] = race"
   ]
  },
  {
   "cell_type": "code",
   "execution_count": 3,
   "metadata": {},
   "outputs": [],
   "source": [
    "fields = df[0].keys()\n",
    "output_rows = []\n",
    "for author in df:\n",
    "    row = []\n",
    "    for item in fields:\n",
    "        row.append(author[item])\n",
    "    output_rows.append(row)\n",
    "\n",
    "with open(\"Formatted_data.csv\", 'w', newline='', encoding = \"Utf-8\") as csvfile: \n",
    "    csvwriter = csv.writer(csvfile) \n",
    "    csvwriter.writerow(fields) \n",
    "    csvwriter.writerows(output_rows)"
   ]
  },
  {
   "cell_type": "code",
   "execution_count": null,
   "metadata": {},
   "outputs": [],
   "source": []
  }
 ],
 "metadata": {
  "kernelspec": {
   "display_name": "Python 3",
   "language": "python",
   "name": "python3"
  },
  "language_info": {
   "codemirror_mode": {
    "name": "ipython",
    "version": 3
   },
   "file_extension": ".py",
   "mimetype": "text/x-python",
   "name": "python",
   "nbconvert_exporter": "python",
   "pygments_lexer": "ipython3",
   "version": "3.7.6"
  }
 },
 "nbformat": 4,
 "nbformat_minor": 4
}
