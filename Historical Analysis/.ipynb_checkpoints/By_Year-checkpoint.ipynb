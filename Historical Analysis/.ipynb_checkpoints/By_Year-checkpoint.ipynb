{
 "cells": [
  {
   "cell_type": "code",
   "execution_count": 39,
   "metadata": {},
   "outputs": [],
   "source": [
    "import csv\n",
    "df = []\n",
    "with open('Formatted_data.csv', 'r') as data:\n",
    "    for line in csv.DictReader(data):\n",
    "        df.append(line)"
   ]
  },
  {
   "cell_type": "code",
   "execution_count": 40,
   "metadata": {},
   "outputs": [],
   "source": [
    "df_byYear = []\n",
    "for year in range(2002,2019):\n",
    "    dict = {\"Total\": 0,\n",
    "            \"White\": 0,\n",
    "            \"Black\": 0,\n",
    "            \"Asian/PI\": 0,\n",
    "            \"NatAm\": 0,\n",
    "            \"Biracial\": 0,\n",
    "            \"Hispanic\": 0,\n",
    "            \"pctWhite\": 0,\n",
    "            \"pctBlack\": 0,\n",
    "            \"pctAsian/PI\": 0,\n",
    "            \"pctNatAm\": 0,\n",
    "            \"pctBiracial\": 0,\n",
    "            \"pctHispanic\": 0,\n",
    "            \"Year\": year\n",
    "           }\n",
    "    df_byYear.append(dict)"
   ]
  },
  {
   "cell_type": "code",
   "execution_count": 41,
   "metadata": {},
   "outputs": [],
   "source": [
    "for entry in df:\n",
    "    for output in df_byYear:\n",
    "        if str(entry[\"Paper_publicationYear\"]) == str(output[\"Year\"]):\n",
    "            output[\"Total\"] += 1\n",
    "            \n",
    "            for race in [\"White\", \"Black\", \"Asian/PI\", \"NatAm\", \"Biracial\", \"Hispanic\"]:\n",
    "                if entry[\"Race\"] == race:\n",
    "                    output[race] += 1\n",
    "                    \n",
    "for output in df_byYear:\n",
    "    for race in [\"White\", \"Black\", \"Asian/PI\", \"NatAm\", \"Biracial\", \"Hispanic\"]:\n",
    "        pctString = \"pct\" + race\n",
    "        output[pctString] = (output[race] / output[\"Total\"] * 100)\n",
    "                "
   ]
  },
  {
   "cell_type": "code",
   "execution_count": 42,
   "metadata": {},
   "outputs": [],
   "source": [
    "fields = df_byYear[0].keys()\n",
    "output_rows = []\n",
    "for year in df_byYear:\n",
    "    row = []\n",
    "    for item in fields:\n",
    "        row.append(year[item])\n",
    "    output_rows.append(row)\n",
    "\n",
    "with open(\"Data_by_year.csv\", 'w', newline='', encoding = \"Utf-8\") as csvfile: \n",
    "    csvwriter = csv.writer(csvfile) \n",
    "    csvwriter.writerow(fields) \n",
    "    csvwriter.writerows(output_rows)"
   ]
  },
  {
   "cell_type": "code",
   "execution_count": null,
   "metadata": {},
   "outputs": [],
   "source": []
  }
 ],
 "metadata": {
  "kernelspec": {
   "display_name": "Python 3",
   "language": "python",
   "name": "python3"
  },
  "language_info": {
   "codemirror_mode": {
    "name": "ipython",
    "version": 3
   },
   "file_extension": ".py",
   "mimetype": "text/x-python",
   "name": "python",
   "nbconvert_exporter": "python",
   "pygments_lexer": "ipython3",
   "version": "3.7.6"
  }
 },
 "nbformat": 4,
 "nbformat_minor": 4
}
